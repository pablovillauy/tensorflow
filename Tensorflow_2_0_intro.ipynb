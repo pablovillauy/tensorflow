{
  "nbformat": 4,
  "nbformat_minor": 0,
  "metadata": {
    "colab": {
      "name": "Tensorflow 2.0 intro.ipynb",
      "provenance": [],
      "collapsed_sections": [],
      "authorship_tag": "ABX9TyOGHAJ7+CHoqcLsqKsemGxy",
      "include_colab_link": true
    },
    "kernelspec": {
      "name": "python3",
      "display_name": "Python 3"
    }
  },
  "cells": [
    {
      "cell_type": "markdown",
      "metadata": {
        "id": "view-in-github",
        "colab_type": "text"
      },
      "source": [
        "<a href=\"https://colab.research.google.com/github/pablovillauy/tensorflow/blob/master/Tensorflow_2_0_intro.ipynb\" target=\"_parent\"><img src=\"https://colab.research.google.com/assets/colab-badge.svg\" alt=\"Open In Colab\"/></a>"
      ]
    },
    {
      "cell_type": "markdown",
      "metadata": {
        "id": "ChZ90bAjJUqw",
        "colab_type": "text"
      },
      "source": [
        "# **Tensorflow 2.0 Introduction**\n",
        "The objective of this notebook is help you to learn what is and how to use Tensorflow.\n",
        "\n",
        "Tensorflow is a ML tool, Open Source, Created by Google.\n",
        "Last version. 2.0\n",
        "Website. https://www.tensorflow.org/\n",
        "\n",
        "What can you do with Tensorflow?\n",
        "*   Image classification\n",
        "*   Data Clustering\n",
        "*   Regression\n",
        "*   Reinforcement learning\n",
        "*   Natural language processing\n"
      ]
    },
    {
      "cell_type": "markdown",
      "metadata": {
        "id": "y-at9kAnKsJ6",
        "colab_type": "text"
      },
      "source": [
        "**Install Tensorflow**\n",
        "\n",
        "To install Tensorflow use the pip command.\n",
        "\n",
        "https://www.tensorflow.org/install"
      ]
    },
    {
      "cell_type": "code",
      "metadata": {
        "id": "vrqde5FFGGXL",
        "colab_type": "code",
        "outputId": "f7040233-ada4-4e09-e5c7-5b24975f8865",
        "colab": {
          "base_uri": "https://localhost:8080/",
          "height": 55
        }
      },
      "source": [
        "# %tensorflow_version 1.x # in Google Colab, use this command if you need Tensorflow 1\n",
        "# pip install tensorflow # if you need to install the library\n",
        "\n",
        "import tensorflow as tf # import tensorflow module\n",
        "print(tf.version) # print tensorflow version"
      ],
      "execution_count": 0,
      "outputs": [
        {
          "output_type": "stream",
          "text": [
            "<module 'tensorflow._api.v2.version' from '/usr/local/lib/python3.6/dist-packages/tensorflow/_api/v2/version/__init__.py'>\n"
          ],
          "name": "stdout"
        }
      ]
    },
    {
      "cell_type": "markdown",
      "metadata": {
        "id": "_8VCgpcmXDqF",
        "colab_type": "text"
      },
      "source": [
        "**Tensor**\n",
        "\n",
        "Tensor is one of the **main objects** in Tensorflow.\n",
        "A tensor is a **generalization of vectors and matrices** to potentially higher dimensions. \n",
        "Internally, TensorFlow represents tensors as n-dimensional arrays of base datatypes.\n",
        "\n",
        "A tf.Tensor has the following **properties**:\n",
        "*   a **data type** (float32, int32, or string\n",
        "*   a **shape** the number of dimensions it has and the size of each dimension\n",
        "\n",
        "**Each element in the Tensor has the same data type**, and the data type is always known. \n",
        "\n",
        "The shape might be only partially known. \n",
        "\n",
        "Most operations produce tensors of fully-known shapes if the shapes of their inputs are also fully known, but in some cases it's only possible to find the shape of a tensor at graph execution time.\n",
        "\n",
        "\n",
        "https://www.tensorflow.org/guide/tensor\n"
      ]
    },
    {
      "cell_type": "markdown",
      "metadata": {
        "id": "O5NvAaQJYWR8",
        "colab_type": "text"
      },
      "source": [
        "**Rank**\n",
        "The rank of a tf.Tensor object is its number of dimensions."
      ]
    },
    {
      "cell_type": "code",
      "metadata": {
        "id": "Ja5bA5G1W12_",
        "colab_type": "code",
        "outputId": "e34ddeed-4719-4968-b9b5-2709d4ad9d9e",
        "colab": {
          "base_uri": "https://localhost:8080/",
          "height": 35
        }
      },
      "source": [
        "# Rank 0: Scalar\n",
        "# defining Rank 0 variables\n",
        "\n",
        "mammal = tf.Variable(\"Elephant\", tf.string)\n",
        "ignition = tf.Variable(451, tf.int16)\n",
        "floating = tf.Variable(3.14159265359, tf.float64)\n",
        "its_complicated = tf.Variable(12.3 - 4.85j, tf.complex64)\n",
        "\n",
        "print(type(mammal))\n",
        "# <class 'tensorflow.python.ops.resource_variable_ops.ResourceVariable'>\n"
      ],
      "execution_count": 0,
      "outputs": [
        {
          "output_type": "stream",
          "text": [
            "<class 'tensorflow.python.ops.resource_variable_ops.ResourceVariable'>\n"
          ],
          "name": "stdout"
        }
      ]
    },
    {
      "cell_type": "markdown",
      "metadata": {
        "id": "ER8OVxdQphUE",
        "colab_type": "text"
      },
      "source": [
        "**Shape of a tensor**"
      ]
    },
    {
      "cell_type": "code",
      "metadata": {
        "id": "9b_mBAOtpkzN",
        "colab_type": "code",
        "outputId": "f4e403c0-0247-480a-b42f-4fb97fcccfc9",
        "colab": {
          "base_uri": "https://localhost:8080/",
          "height": 35
        }
      },
      "source": [
        "mammal.shape\n",
        "# TensorShape([])"
      ],
      "execution_count": 0,
      "outputs": [
        {
          "output_type": "execute_result",
          "data": {
            "text/plain": [
              "TensorShape([])"
            ]
          },
          "metadata": {
            "tags": []
          },
          "execution_count": 5
        }
      ]
    },
    {
      "cell_type": "code",
      "metadata": {
        "id": "tN5Vs6doY2JU",
        "colab_type": "code",
        "colab": {}
      },
      "source": [
        "# Rank 1: Vector\n",
        "mystr = tf.Variable([\"Hello\"], tf.string)\n",
        "cool_numbers  = tf.Variable([3.14159, 2.71828], tf.float32)\n",
        "first_primes = tf.Variable([2, 3, 5, 7, 11], tf.int32)\n",
        "its_very_complicated = tf.Variable([12.3 - 4.85j, 7.5 - 6.23j], tf.complex64)"
      ],
      "execution_count": 0,
      "outputs": []
    },
    {
      "cell_type": "code",
      "metadata": {
        "id": "Y57wyVtqY8pk",
        "colab_type": "code",
        "outputId": "61968790-4e3b-4b7c-8fb2-79103d747df4",
        "colab": {
          "base_uri": "https://localhost:8080/",
          "height": 145
        }
      },
      "source": [
        "# Rank 2: Matrix (table)\n",
        "mymat = tf.Variable([[7],[11]], tf.int16)\n",
        "myxor = tf.Variable([[False, True],[True, False]], tf.bool)\n",
        "linear_squares = tf.Variable([[4], [9], [16], [25]], tf.int32)\n",
        "squarish_squares = tf.Variable([ [4, 9], [16, 25] ], tf.int32)\n",
        "mymatC = tf.Variable([[7],[11]], tf.int32)\n",
        "\n",
        "two_pairs=tf.Variable([['row 01', 'value 01'], ['row 02', 'value 02']], tf.string)\n",
        "print('two_pairs: ' + two_pairs)\n",
        "print('rank of two_pairs: ' + str(tf.rank(two_pairs)))\n",
        "print('shape of two_pairs: ' + str(two_pairs.shape))\n",
        "\n",
        "print(mymat.shape)\n",
        "# TensorShape([Dimension(2), Dimension(1)])\n",
        "mymat.shape"
      ],
      "execution_count": 0,
      "outputs": [
        {
          "output_type": "stream",
          "text": [
            "tf.Tensor(\n",
            "[[b'two_pairs: row 01' b'two_pairs: value 01']\n",
            " [b'two_pairs: row 02' b'two_pairs: value 02']], shape=(2, 2), dtype=string)\n",
            "rank of two_pairs: tf.Tensor(2, shape=(), dtype=int32)\n",
            "shape of two_pairs: (2, 2)\n",
            "(2, 1)\n"
          ],
          "name": "stdout"
        },
        {
          "output_type": "execute_result",
          "data": {
            "text/plain": [
              "TensorShape([2, 1])"
            ]
          },
          "metadata": {
            "tags": []
          },
          "execution_count": 7
        }
      ]
    },
    {
      "cell_type": "code",
      "metadata": {
        "id": "mFB59jsgZVn0",
        "colab_type": "code",
        "outputId": "d204335e-b961-4e41-a958-8cacaa85c302",
        "colab": {
          "base_uri": "https://localhost:8080/",
          "height": 35
        }
      },
      "source": [
        "# Getting a tf.Tensor object's rank\n",
        "rank_of_squares = tf.rank(squarish_squares)\n",
        "print(rank_of_squares)"
      ],
      "execution_count": 0,
      "outputs": [
        {
          "output_type": "stream",
          "text": [
            "tf.Tensor(2, shape=(), dtype=int32)\n"
          ],
          "name": "stdout"
        }
      ]
    },
    {
      "cell_type": "markdown",
      "metadata": {
        "id": "IRhF6NlkaCTp",
        "colab_type": "text"
      },
      "source": [
        "**Tensor Slices**\n",
        "Since a tf.Tensor is an n-dimensional array of cells, to access a single cell in a tf.Tensor you need to specify n indices.\n",
        "\n",
        "For a rank 0 tensor (a scalar), no indices are necessary, since it is already a single number.\n",
        "\n"
      ]
    },
    {
      "cell_type": "code",
      "metadata": {
        "id": "Gk8DD3uiZ_us",
        "colab_type": "code",
        "outputId": "13dce9b6-2caf-427d-bc8a-e946312de3aa",
        "colab": {
          "base_uri": "https://localhost:8080/",
          "height": 199
        }
      },
      "source": [
        "# access to a value for\n",
        "# rank 0\n",
        "print('rank 0')\n",
        "print(mammal)\n",
        "\n",
        "# rank 1\n",
        "print('')\n",
        "print('rank 1')\n",
        "\n",
        "cool_numbers  = tf.Variable([3.14159, 2.71828], tf.float32)\n",
        "print(cool_numbers[0])\n",
        "print(cool_numbers[1])\n",
        "\n",
        "\n",
        "# rank 2\n",
        "print('')\n",
        "print('rank 2')\n",
        "\n",
        "squarish_squares = tf.Variable([ [4, 9], [16, 25], [36, 49] ], dtype=tf.int32)\n",
        "print(squarish_squares.shape)\n",
        "\n",
        "two_sqr = squarish_squares[0,0]\n",
        "print(two_sqr)\n",
        "# tf.Tensor(4, shape=(), dtype=int32)\n"
      ],
      "execution_count": 0,
      "outputs": [
        {
          "output_type": "stream",
          "text": [
            "rank 0\n",
            "<tf.Variable 'Variable:0' shape=() dtype=string, numpy=b'Elephant'>\n",
            "\n",
            "rank 1\n",
            "tf.Tensor(3.14159, shape=(), dtype=float32)\n",
            "tf.Tensor(2.71828, shape=(), dtype=float32)\n",
            "\n",
            "rank 2\n",
            "(3, 2)\n",
            "tf.Tensor(4, shape=(), dtype=int32)\n"
          ],
          "name": "stdout"
        }
      ]
    }
  ]
}