{
  "nbformat": 4,
  "nbformat_minor": 0,
  "metadata": {
    "colab": {
      "name": "TensorFlow Algorithms - Classification.ipynb",
      "provenance": [],
      "collapsed_sections": [],
      "authorship_tag": "ABX9TyNPgreg9OoZZYO1XM6/GnnR",
      "include_colab_link": true
    },
    "kernelspec": {
      "name": "python3",
      "display_name": "Python 3"
    }
  },
  "cells": [
    {
      "cell_type": "markdown",
      "metadata": {
        "id": "view-in-github",
        "colab_type": "text"
      },
      "source": [
        "<a href=\"https://colab.research.google.com/github/pablovillauy/tensorflow/blob/master/TensorFlow_Algorithms_Classification.ipynb\" target=\"_parent\"><img src=\"https://colab.research.google.com/assets/colab-badge.svg\" alt=\"Open In Colab\"/></a>"
      ]
    },
    {
      "cell_type": "markdown",
      "metadata": {
        "id": "LayLSl1XMahk",
        "colab_type": "text"
      },
      "source": [
        "# **TensorFlow Algorithms - Classification**\n",
        "\n",
        "Classification is used to seperate data points into classes of different labels. In this example we will use a TensorFlow estimator to classify flowers.\n",
        "\n",
        "https://www.tensorflow.org/tutorials/estimator/premade\n",
        "\n",
        "https://colab.research.google.com/drive/15Cyy2H7nT40sGR7TBN5wBvgTd57mVKay#forceEdit=true&sandboxMode=true&scrollTo=hG9gxhAqVTBT"
      ]
    },
    {
      "cell_type": "code",
      "metadata": {
        "id": "9iRHKeDvMZq4",
        "colab_type": "code",
        "outputId": "1a803459-e962-4858-ef61-b3966f40a250",
        "colab": {
          "base_uri": "https://localhost:8080/",
          "height": 108
        }
      },
      "source": [
        "# import libraries\n",
        "%tensorflow_version 2.x  # this line is not required unless you are in a notebook\n",
        "from __future__ import absolute_import, division, print_function, unicode_literals\n",
        "import tensorflow as tf\n",
        "import pandas as pd"
      ],
      "execution_count": 0,
      "outputs": [
        {
          "output_type": "stream",
          "text": [
            "`%tensorflow_version` only switches the major version: 1.x or 2.x.\n",
            "You set: `2.x  # this line is not required unless you are in a notebook`. This will be interpreted as: `2.x`.\n",
            "\n",
            "\n",
            "TensorFlow is already loaded. Please restart the runtime to change versions.\n"
          ],
          "name": "stdout"
        }
      ]
    },
    {
      "cell_type": "markdown",
      "metadata": {
        "id": "cuIlLJv4PUoo",
        "colab_type": "text"
      },
      "source": [
        "**Dataset**\n",
        "This specific dataset separates flowers into 3 different classes of species.\n",
        "\n",
        "Setosa\n",
        "\n",
        "Versicolor\n",
        "\n",
        "Virginica\n",
        "\n",
        "The information about each flower is the following.\n",
        "\n",
        "sepal length\n",
        "\n",
        "sepal width\n",
        "\n",
        "petal length\n",
        "\n",
        "petal width"
      ]
    },
    {
      "cell_type": "code",
      "metadata": {
        "id": "_x84Qf9fPgA-",
        "colab_type": "code",
        "colab": {}
      },
      "source": [
        "CSV_COLUMN_NAMES = ['SepalLength', 'SepalWidth', 'PetalLength', 'PetalWidth', 'Species']\n",
        "SPECIES = ['Setosa', 'Versicolor', 'Virginica']\n",
        "# Lets define some constants to help us later on"
      ],
      "execution_count": 0,
      "outputs": []
    },
    {
      "cell_type": "code",
      "metadata": {
        "id": "oMW41Wd9eLIo",
        "colab_type": "code",
        "colab": {}
      },
      "source": [
        "train_path = tf.keras.utils.get_file(\n",
        "    \"iris_training.csv\", \"https://storage.googleapis.com/download.tensorflow.org/data/iris_training.csv\")\n",
        "test_path = tf.keras.utils.get_file(\n",
        "    \"iris_test.csv\", \"https://storage.googleapis.com/download.tensorflow.org/data/iris_test.csv\")\n",
        "\n",
        "train = pd.read_csv(train_path, names=CSV_COLUMN_NAMES, header=0)\n",
        "test = pd.read_csv(test_path, names=CSV_COLUMN_NAMES, header=0)\n",
        "# Here we use keras (a module inside of TensorFlow) to grab our datasets and read them into a pandas dataframe"
      ],
      "execution_count": 0,
      "outputs": []
    },
    {
      "cell_type": "markdown",
      "metadata": {
        "id": "ZHMt5qZyP2bG",
        "colab_type": "text"
      },
      "source": [
        "**Inspect the data**\n",
        "\n"
      ]
    },
    {
      "cell_type": "code",
      "metadata": {
        "id": "u4258QccP2D9",
        "colab_type": "code",
        "outputId": "0026e9df-304e-4eb9-b803-0fd36b1a87de",
        "colab": {
          "base_uri": "https://localhost:8080/",
          "height": 198
        }
      },
      "source": [
        "train.head()"
      ],
      "execution_count": 0,
      "outputs": [
        {
          "output_type": "execute_result",
          "data": {
            "text/html": [
              "<div>\n",
              "<style scoped>\n",
              "    .dataframe tbody tr th:only-of-type {\n",
              "        vertical-align: middle;\n",
              "    }\n",
              "\n",
              "    .dataframe tbody tr th {\n",
              "        vertical-align: top;\n",
              "    }\n",
              "\n",
              "    .dataframe thead th {\n",
              "        text-align: right;\n",
              "    }\n",
              "</style>\n",
              "<table border=\"1\" class=\"dataframe\">\n",
              "  <thead>\n",
              "    <tr style=\"text-align: right;\">\n",
              "      <th></th>\n",
              "      <th>SepalLength</th>\n",
              "      <th>SepalWidth</th>\n",
              "      <th>PetalLength</th>\n",
              "      <th>PetalWidth</th>\n",
              "      <th>Species</th>\n",
              "    </tr>\n",
              "  </thead>\n",
              "  <tbody>\n",
              "    <tr>\n",
              "      <th>0</th>\n",
              "      <td>6.4</td>\n",
              "      <td>2.8</td>\n",
              "      <td>5.6</td>\n",
              "      <td>2.2</td>\n",
              "      <td>2</td>\n",
              "    </tr>\n",
              "    <tr>\n",
              "      <th>1</th>\n",
              "      <td>5.0</td>\n",
              "      <td>2.3</td>\n",
              "      <td>3.3</td>\n",
              "      <td>1.0</td>\n",
              "      <td>1</td>\n",
              "    </tr>\n",
              "    <tr>\n",
              "      <th>2</th>\n",
              "      <td>4.9</td>\n",
              "      <td>2.5</td>\n",
              "      <td>4.5</td>\n",
              "      <td>1.7</td>\n",
              "      <td>2</td>\n",
              "    </tr>\n",
              "    <tr>\n",
              "      <th>3</th>\n",
              "      <td>4.9</td>\n",
              "      <td>3.1</td>\n",
              "      <td>1.5</td>\n",
              "      <td>0.1</td>\n",
              "      <td>0</td>\n",
              "    </tr>\n",
              "    <tr>\n",
              "      <th>4</th>\n",
              "      <td>5.7</td>\n",
              "      <td>3.8</td>\n",
              "      <td>1.7</td>\n",
              "      <td>0.3</td>\n",
              "      <td>0</td>\n",
              "    </tr>\n",
              "  </tbody>\n",
              "</table>\n",
              "</div>"
            ],
            "text/plain": [
              "   SepalLength  SepalWidth  PetalLength  PetalWidth  Species\n",
              "0          6.4         2.8          5.6         2.2        2\n",
              "1          5.0         2.3          3.3         1.0        1\n",
              "2          4.9         2.5          4.5         1.7        2\n",
              "3          4.9         3.1          1.5         0.1        0\n",
              "4          5.7         3.8          1.7         0.3        0"
            ]
          },
          "metadata": {
            "tags": []
          },
          "execution_count": 25
        }
      ]
    },
    {
      "cell_type": "code",
      "metadata": {
        "id": "N6ybxmcQQAgN",
        "colab_type": "code",
        "outputId": "b2aa42f5-8f01-4569-d9dd-a47bf2a31b0e",
        "colab": {
          "base_uri": "https://localhost:8080/",
          "height": 35
        }
      },
      "source": [
        "train.shape"
      ],
      "execution_count": 0,
      "outputs": [
        {
          "output_type": "execute_result",
          "data": {
            "text/plain": [
              "(120, 5)"
            ]
          },
          "metadata": {
            "tags": []
          },
          "execution_count": 26
        }
      ]
    },
    {
      "cell_type": "code",
      "metadata": {
        "id": "L7k3UB5MQFon",
        "colab_type": "code",
        "outputId": "ae79278d-10e5-47d5-cf3b-0d8708f7de16",
        "colab": {
          "base_uri": "https://localhost:8080/",
          "height": 198
        }
      },
      "source": [
        "# Now we can pop the species column off and use that as our label.\n",
        "train_y = train.pop('Species')\n",
        "test_y = test.pop('Species')\n",
        "\n",
        "train.head() # the species column is now gone"
      ],
      "execution_count": 0,
      "outputs": [
        {
          "output_type": "execute_result",
          "data": {
            "text/html": [
              "<div>\n",
              "<style scoped>\n",
              "    .dataframe tbody tr th:only-of-type {\n",
              "        vertical-align: middle;\n",
              "    }\n",
              "\n",
              "    .dataframe tbody tr th {\n",
              "        vertical-align: top;\n",
              "    }\n",
              "\n",
              "    .dataframe thead th {\n",
              "        text-align: right;\n",
              "    }\n",
              "</style>\n",
              "<table border=\"1\" class=\"dataframe\">\n",
              "  <thead>\n",
              "    <tr style=\"text-align: right;\">\n",
              "      <th></th>\n",
              "      <th>SepalLength</th>\n",
              "      <th>SepalWidth</th>\n",
              "      <th>PetalLength</th>\n",
              "      <th>PetalWidth</th>\n",
              "    </tr>\n",
              "  </thead>\n",
              "  <tbody>\n",
              "    <tr>\n",
              "      <th>0</th>\n",
              "      <td>6.4</td>\n",
              "      <td>2.8</td>\n",
              "      <td>5.6</td>\n",
              "      <td>2.2</td>\n",
              "    </tr>\n",
              "    <tr>\n",
              "      <th>1</th>\n",
              "      <td>5.0</td>\n",
              "      <td>2.3</td>\n",
              "      <td>3.3</td>\n",
              "      <td>1.0</td>\n",
              "    </tr>\n",
              "    <tr>\n",
              "      <th>2</th>\n",
              "      <td>4.9</td>\n",
              "      <td>2.5</td>\n",
              "      <td>4.5</td>\n",
              "      <td>1.7</td>\n",
              "    </tr>\n",
              "    <tr>\n",
              "      <th>3</th>\n",
              "      <td>4.9</td>\n",
              "      <td>3.1</td>\n",
              "      <td>1.5</td>\n",
              "      <td>0.1</td>\n",
              "    </tr>\n",
              "    <tr>\n",
              "      <th>4</th>\n",
              "      <td>5.7</td>\n",
              "      <td>3.8</td>\n",
              "      <td>1.7</td>\n",
              "      <td>0.3</td>\n",
              "    </tr>\n",
              "  </tbody>\n",
              "</table>\n",
              "</div>"
            ],
            "text/plain": [
              "   SepalLength  SepalWidth  PetalLength  PetalWidth\n",
              "0          6.4         2.8          5.6         2.2\n",
              "1          5.0         2.3          3.3         1.0\n",
              "2          4.9         2.5          4.5         1.7\n",
              "3          4.9         3.1          1.5         0.1\n",
              "4          5.7         3.8          1.7         0.3"
            ]
          },
          "metadata": {
            "tags": []
          },
          "execution_count": 27
        }
      ]
    },
    {
      "cell_type": "markdown",
      "metadata": {
        "id": "0gjP4nqNXMR2",
        "colab_type": "text"
      },
      "source": [
        "**Input Function**"
      ]
    },
    {
      "cell_type": "code",
      "metadata": {
        "id": "ibHtF6cqXRvY",
        "colab_type": "code",
        "colab": {}
      },
      "source": [
        "def input_fn(features, labels, training=True, batch_size=256):\n",
        "    # Convert the inputs to a Dataset.\n",
        "    dataset = tf.data.Dataset.from_tensor_slices((dict(features), labels))\n",
        "\n",
        "    # Shuffle and repeat if you are in training mode.\n",
        "    if training:\n",
        "        dataset = dataset.shuffle(1000).repeat()\n",
        "    \n",
        "    return dataset.batch(batch_size)"
      ],
      "execution_count": 0,
      "outputs": []
    },
    {
      "cell_type": "markdown",
      "metadata": {
        "id": "6J2zf9fFQW77",
        "colab_type": "text"
      },
      "source": [
        "**Feature Columns**"
      ]
    },
    {
      "cell_type": "code",
      "metadata": {
        "id": "8gyg0FkgQZSC",
        "colab_type": "code",
        "outputId": "8e2895a9-f11d-4660-f031-68fd99f5cf04",
        "colab": {
          "base_uri": "https://localhost:8080/",
          "height": 55
        }
      },
      "source": [
        "# Feature columns describe how to use the input.\n",
        "my_feature_columns = []\n",
        "for key in train.keys():\n",
        "    my_feature_columns.append(tf.feature_column.numeric_column(key=key))\n",
        "print(my_feature_columns)"
      ],
      "execution_count": 0,
      "outputs": [
        {
          "output_type": "stream",
          "text": [
            "[NumericColumn(key='SepalLength', shape=(1,), default_value=None, dtype=tf.float32, normalizer_fn=None), NumericColumn(key='SepalWidth', shape=(1,), default_value=None, dtype=tf.float32, normalizer_fn=None), NumericColumn(key='PetalLength', shape=(1,), default_value=None, dtype=tf.float32, normalizer_fn=None), NumericColumn(key='PetalWidth', shape=(1,), default_value=None, dtype=tf.float32, normalizer_fn=None)]\n"
          ],
          "name": "stdout"
        }
      ]
    },
    {
      "cell_type": "markdown",
      "metadata": {
        "id": "nZkYGapkQj8P",
        "colab_type": "text"
      },
      "source": [
        ""
      ]
    },
    {
      "cell_type": "markdown",
      "metadata": {
        "id": "5kl1Wr_Xgpmv",
        "colab_type": "text"
      },
      "source": [
        "###Building the Model\n",
        "And now we are ready to **choose a model**. \n",
        "For **classification** tasks there are variety of different estimators/models that we can pick from. Some options are listed below.\n",
        "- ```**DNNClassifier**``` (Deep Neural Network)\n",
        "- ```**LinearClassifier**``` \n",
        "\n",
        "We can choose either model but the DNN seems to be the best choice. This is because we may not be able to find a linear coorespondence in our data. \n",
        "\n",
        "So let's build a model."
      ]
    },
    {
      "cell_type": "code",
      "metadata": {
        "id": "mQTmAZ-KSBUx",
        "colab_type": "code",
        "outputId": "ebb6dad0-a525-40cf-cf9b-b43c46e0e936",
        "colab": {
          "base_uri": "https://localhost:8080/",
          "height": 201
        }
      },
      "source": [
        "# Build a DNN with 2 hidden layers with 30 and 10 hidden nodes each.\n",
        "classifier = tf.estimator.DNNClassifier(\n",
        "    feature_columns=my_feature_columns,\n",
        "    # Two hidden layers of 30 and 10 nodes respectively.\n",
        "    hidden_units=[30, 10],\n",
        "    # The model must choose between 3 classes.\n",
        "    n_classes=3)"
      ],
      "execution_count": 0,
      "outputs": [
        {
          "output_type": "stream",
          "text": [
            "INFO:tensorflow:Using default config.\n",
            "WARNING:tensorflow:Using temporary folder as model directory: /tmp/tmp5m4fjf57\n",
            "INFO:tensorflow:Using config: {'_model_dir': '/tmp/tmp5m4fjf57', '_tf_random_seed': None, '_save_summary_steps': 100, '_save_checkpoints_steps': None, '_save_checkpoints_secs': 600, '_session_config': allow_soft_placement: true\n",
            "graph_options {\n",
            "  rewrite_options {\n",
            "    meta_optimizer_iterations: ONE\n",
            "  }\n",
            "}\n",
            ", '_keep_checkpoint_max': 5, '_keep_checkpoint_every_n_hours': 10000, '_log_step_count_steps': 100, '_train_distribute': None, '_device_fn': None, '_protocol': None, '_eval_distribute': None, '_experimental_distribute': None, '_experimental_max_worker_delay_secs': None, '_session_creation_timeout_secs': 7200, '_service': None, '_cluster_spec': ClusterSpec({}), '_task_type': 'worker', '_task_id': 0, '_global_id_in_cluster': 0, '_master': '', '_evaluation_master': '', '_is_chief': True, '_num_ps_replicas': 0, '_num_worker_replicas': 1}\n"
          ],
          "name": "stdout"
        }
      ]
    },
    {
      "cell_type": "markdown",
      "metadata": {
        "id": "gTCfyqSWSG7R",
        "colab_type": "text"
      },
      "source": [
        "What we've just done is created a deep neural network that has two hidden layers. These layers have 30 and 10 neurons respectively. This is the number of neurons the TensorFlow official tutorial uses so we'll stick with it. However, it is worth mentioning that the number of hidden neurons is an arbitrary number and many experiments and tests are usually done to determine the best choice for these values. Try playing around with the number of hidden neurons and see if your results change."
      ]
    },
    {
      "cell_type": "markdown",
      "metadata": {
        "id": "XxumsEF7SQhg",
        "colab_type": "text"
      },
      "source": [
        "**Train the model**"
      ]
    },
    {
      "cell_type": "code",
      "metadata": {
        "id": "KBTqajZmSS6j",
        "colab_type": "code",
        "outputId": "eb28ee74-ed35-4411-d00d-316aa5b19ae8",
        "colab": {
          "base_uri": "https://localhost:8080/",
          "height": 1000
        }
      },
      "source": [
        "classifier.train(\n",
        "    input_fn=lambda: input_fn(train, train_y, training=True),\n",
        "    steps=5000)\n",
        "# We include a lambda to avoid creating an inner function previously"
      ],
      "execution_count": 0,
      "outputs": [
        {
          "output_type": "stream",
          "text": [
            "INFO:tensorflow:Calling model_fn.\n",
            "WARNING:tensorflow:Layer dnn is casting an input tensor from dtype float64 to the layer's dtype of float32, which is new behavior in TensorFlow 2.  The layer has dtype float32 because it's dtype defaults to floatx.\n",
            "\n",
            "If you intended to run this layer in float32, you can safely ignore this warning. If in doubt, this warning is likely only an issue if you are porting a TensorFlow 1.X model to TensorFlow 2.\n",
            "\n",
            "To change all layers to have dtype float64 by default, call `tf.keras.backend.set_floatx('float64')`. To change just this layer, pass dtype='float64' to the layer constructor. If you are the author of this layer, you can disable autocasting by passing autocast=False to the base Layer constructor.\n",
            "\n",
            "WARNING:tensorflow:From /usr/local/lib/python3.6/dist-packages/tensorflow/python/keras/optimizer_v2/adagrad.py:106: calling Constant.__init__ (from tensorflow.python.ops.init_ops) with dtype is deprecated and will be removed in a future version.\n",
            "Instructions for updating:\n",
            "Call initializer instance with the dtype argument instead of passing it to the constructor\n",
            "INFO:tensorflow:Done calling model_fn.\n",
            "INFO:tensorflow:Create CheckpointSaverHook.\n",
            "INFO:tensorflow:Graph was finalized.\n",
            "INFO:tensorflow:Running local_init_op.\n",
            "INFO:tensorflow:Done running local_init_op.\n",
            "INFO:tensorflow:Calling checkpoint listeners before saving checkpoint 0...\n",
            "INFO:tensorflow:Saving checkpoints for 0 into /tmp/tmp5m4fjf57/model.ckpt.\n",
            "INFO:tensorflow:Calling checkpoint listeners after saving checkpoint 0...\n",
            "INFO:tensorflow:loss = 1.8471177, step = 0\n",
            "INFO:tensorflow:global_step/sec: 525.686\n",
            "INFO:tensorflow:loss = 1.0407656, step = 100 (0.192 sec)\n",
            "INFO:tensorflow:global_step/sec: 691.059\n",
            "INFO:tensorflow:loss = 0.966306, step = 200 (0.145 sec)\n",
            "INFO:tensorflow:global_step/sec: 628.042\n",
            "INFO:tensorflow:loss = 0.9263636, step = 300 (0.162 sec)\n",
            "INFO:tensorflow:global_step/sec: 672.978\n",
            "INFO:tensorflow:loss = 0.90093184, step = 400 (0.148 sec)\n",
            "INFO:tensorflow:global_step/sec: 674.972\n",
            "INFO:tensorflow:loss = 0.8589654, step = 500 (0.146 sec)\n",
            "INFO:tensorflow:global_step/sec: 634.357\n",
            "INFO:tensorflow:loss = 0.85378814, step = 600 (0.158 sec)\n",
            "INFO:tensorflow:global_step/sec: 678.315\n",
            "INFO:tensorflow:loss = 0.81723976, step = 700 (0.149 sec)\n",
            "INFO:tensorflow:global_step/sec: 652.353\n",
            "INFO:tensorflow:loss = 0.8189832, step = 800 (0.153 sec)\n",
            "INFO:tensorflow:global_step/sec: 663.795\n",
            "INFO:tensorflow:loss = 0.80508584, step = 900 (0.151 sec)\n",
            "INFO:tensorflow:global_step/sec: 679.944\n",
            "INFO:tensorflow:loss = 0.77890337, step = 1000 (0.145 sec)\n",
            "INFO:tensorflow:global_step/sec: 683.387\n",
            "INFO:tensorflow:loss = 0.7827651, step = 1100 (0.146 sec)\n",
            "INFO:tensorflow:global_step/sec: 677.226\n",
            "INFO:tensorflow:loss = 0.7629324, step = 1200 (0.150 sec)\n",
            "INFO:tensorflow:global_step/sec: 599.924\n",
            "INFO:tensorflow:loss = 0.75225496, step = 1300 (0.164 sec)\n",
            "INFO:tensorflow:global_step/sec: 642.925\n",
            "INFO:tensorflow:loss = 0.74154556, step = 1400 (0.157 sec)\n",
            "INFO:tensorflow:global_step/sec: 696.6\n",
            "INFO:tensorflow:loss = 0.72264385, step = 1500 (0.146 sec)\n",
            "INFO:tensorflow:global_step/sec: 632.634\n",
            "INFO:tensorflow:loss = 0.70231324, step = 1600 (0.156 sec)\n",
            "INFO:tensorflow:global_step/sec: 653.232\n",
            "INFO:tensorflow:loss = 0.6930881, step = 1700 (0.153 sec)\n",
            "INFO:tensorflow:global_step/sec: 665.182\n",
            "INFO:tensorflow:loss = 0.6938441, step = 1800 (0.148 sec)\n",
            "INFO:tensorflow:global_step/sec: 663.694\n",
            "INFO:tensorflow:loss = 0.66994834, step = 1900 (0.153 sec)\n",
            "INFO:tensorflow:global_step/sec: 648.895\n",
            "INFO:tensorflow:loss = 0.6606976, step = 2000 (0.151 sec)\n",
            "INFO:tensorflow:global_step/sec: 655.995\n",
            "INFO:tensorflow:loss = 0.65689135, step = 2100 (0.152 sec)\n",
            "INFO:tensorflow:global_step/sec: 684.737\n",
            "INFO:tensorflow:loss = 0.6524279, step = 2200 (0.147 sec)\n",
            "INFO:tensorflow:global_step/sec: 684.724\n",
            "INFO:tensorflow:loss = 0.64300746, step = 2300 (0.145 sec)\n",
            "INFO:tensorflow:global_step/sec: 635.479\n",
            "INFO:tensorflow:loss = 0.63604367, step = 2400 (0.160 sec)\n",
            "INFO:tensorflow:global_step/sec: 670.024\n",
            "INFO:tensorflow:loss = 0.63250613, step = 2500 (0.146 sec)\n",
            "INFO:tensorflow:global_step/sec: 659.695\n",
            "INFO:tensorflow:loss = 0.62287736, step = 2600 (0.152 sec)\n",
            "INFO:tensorflow:global_step/sec: 650.83\n",
            "INFO:tensorflow:loss = 0.6085369, step = 2700 (0.154 sec)\n",
            "INFO:tensorflow:global_step/sec: 688.961\n",
            "INFO:tensorflow:loss = 0.6083801, step = 2800 (0.144 sec)\n",
            "INFO:tensorflow:global_step/sec: 684.522\n",
            "INFO:tensorflow:loss = 0.5908887, step = 2900 (0.146 sec)\n",
            "INFO:tensorflow:global_step/sec: 678.711\n",
            "INFO:tensorflow:loss = 0.5923054, step = 3000 (0.150 sec)\n",
            "INFO:tensorflow:global_step/sec: 680.335\n",
            "INFO:tensorflow:loss = 0.58713686, step = 3100 (0.145 sec)\n",
            "INFO:tensorflow:global_step/sec: 676.018\n",
            "INFO:tensorflow:loss = 0.5805514, step = 3200 (0.148 sec)\n",
            "INFO:tensorflow:global_step/sec: 653.658\n",
            "INFO:tensorflow:loss = 0.56866086, step = 3300 (0.153 sec)\n",
            "INFO:tensorflow:global_step/sec: 685.802\n",
            "INFO:tensorflow:loss = 0.5580843, step = 3400 (0.146 sec)\n",
            "INFO:tensorflow:global_step/sec: 647.542\n",
            "INFO:tensorflow:loss = 0.55100083, step = 3500 (0.155 sec)\n",
            "INFO:tensorflow:global_step/sec: 649.635\n",
            "INFO:tensorflow:loss = 0.5510242, step = 3600 (0.153 sec)\n",
            "INFO:tensorflow:global_step/sec: 692.969\n",
            "INFO:tensorflow:loss = 0.5114059, step = 3700 (0.145 sec)\n",
            "INFO:tensorflow:global_step/sec: 687.032\n",
            "INFO:tensorflow:loss = 0.51445216, step = 3800 (0.145 sec)\n",
            "INFO:tensorflow:global_step/sec: 655.773\n",
            "INFO:tensorflow:loss = 0.49875215, step = 3900 (0.155 sec)\n",
            "WARNING:tensorflow:It seems that global step (tf.train.get_global_step) has not been increased. Current value (could be stable): 3902 vs previous value: 3902. You could increase the global step by passing tf.train.get_global_step() to Optimizer.apply_gradients or Optimizer.minimize.\n",
            "INFO:tensorflow:global_step/sec: 628.958\n",
            "INFO:tensorflow:loss = 0.49009955, step = 4000 (0.156 sec)\n",
            "INFO:tensorflow:global_step/sec: 678.477\n",
            "INFO:tensorflow:loss = 0.48104116, step = 4100 (0.147 sec)\n",
            "INFO:tensorflow:global_step/sec: 632.086\n",
            "INFO:tensorflow:loss = 0.47915447, step = 4200 (0.161 sec)\n",
            "INFO:tensorflow:global_step/sec: 672.93\n",
            "INFO:tensorflow:loss = 0.47517097, step = 4300 (0.146 sec)\n",
            "INFO:tensorflow:global_step/sec: 648.159\n",
            "INFO:tensorflow:loss = 0.4732599, step = 4400 (0.154 sec)\n",
            "INFO:tensorflow:global_step/sec: 652.101\n",
            "INFO:tensorflow:loss = 0.46768743, step = 4500 (0.156 sec)\n",
            "INFO:tensorflow:global_step/sec: 688.118\n",
            "INFO:tensorflow:loss = 0.4615485, step = 4600 (0.145 sec)\n",
            "INFO:tensorflow:global_step/sec: 616.736\n",
            "INFO:tensorflow:loss = 0.4558568, step = 4700 (0.162 sec)\n",
            "INFO:tensorflow:global_step/sec: 675.036\n",
            "INFO:tensorflow:loss = 0.44840276, step = 4800 (0.148 sec)\n",
            "WARNING:tensorflow:It seems that global step (tf.train.get_global_step) has not been increased. Current value (could be stable): 4803 vs previous value: 4803. You could increase the global step by passing tf.train.get_global_step() to Optimizer.apply_gradients or Optimizer.minimize.\n",
            "INFO:tensorflow:global_step/sec: 642.175\n",
            "INFO:tensorflow:loss = 0.44545925, step = 4900 (0.154 sec)\n",
            "INFO:tensorflow:Calling checkpoint listeners before saving checkpoint 5000...\n",
            "INFO:tensorflow:Saving checkpoints for 5000 into /tmp/tmp5m4fjf57/model.ckpt.\n",
            "INFO:tensorflow:Calling checkpoint listeners after saving checkpoint 5000...\n",
            "INFO:tensorflow:Loss for final step: 0.44939423.\n"
          ],
          "name": "stdout"
        },
        {
          "output_type": "execute_result",
          "data": {
            "text/plain": [
              "<tensorflow_estimator.python.estimator.canned.dnn.DNNClassifierV2 at 0x7fbb336e5780>"
            ]
          },
          "metadata": {
            "tags": []
          },
          "execution_count": 31
        }
      ]
    },
    {
      "cell_type": "markdown",
      "metadata": {
        "id": "_3XXFTlBSjvr",
        "colab_type": "text"
      },
      "source": [
        "**Evaluation**"
      ]
    },
    {
      "cell_type": "code",
      "metadata": {
        "id": "uwVwx1bjSlj0",
        "colab_type": "code",
        "outputId": "2b6b7fdc-ee9f-42f2-c763-1279bf674956",
        "colab": {
          "base_uri": "https://localhost:8080/",
          "height": 401
        }
      },
      "source": [
        "eval_result = classifier.evaluate(\n",
        "    input_fn=lambda: input_fn(test, test_y, training=False))\n",
        "\n",
        "print('\\nTest set accuracy: {accuracy:0.3f}\\n'.format(**eval_result))"
      ],
      "execution_count": 0,
      "outputs": [
        {
          "output_type": "stream",
          "text": [
            "INFO:tensorflow:Calling model_fn.\n",
            "WARNING:tensorflow:Layer dnn is casting an input tensor from dtype float64 to the layer's dtype of float32, which is new behavior in TensorFlow 2.  The layer has dtype float32 because it's dtype defaults to floatx.\n",
            "\n",
            "If you intended to run this layer in float32, you can safely ignore this warning. If in doubt, this warning is likely only an issue if you are porting a TensorFlow 1.X model to TensorFlow 2.\n",
            "\n",
            "To change all layers to have dtype float64 by default, call `tf.keras.backend.set_floatx('float64')`. To change just this layer, pass dtype='float64' to the layer constructor. If you are the author of this layer, you can disable autocasting by passing autocast=False to the base Layer constructor.\n",
            "\n",
            "INFO:tensorflow:Done calling model_fn.\n",
            "INFO:tensorflow:Starting evaluation at 2020-04-06T21:20:26Z\n",
            "INFO:tensorflow:Graph was finalized.\n",
            "INFO:tensorflow:Restoring parameters from /tmp/tmp5m4fjf57/model.ckpt-5000\n",
            "INFO:tensorflow:Running local_init_op.\n",
            "INFO:tensorflow:Done running local_init_op.\n",
            "INFO:tensorflow:Inference Time : 0.25409s\n",
            "INFO:tensorflow:Finished evaluation at 2020-04-06-21:20:26\n",
            "INFO:tensorflow:Saving dict for global step 5000: accuracy = 0.8666667, average_loss = 0.51509285, global_step = 5000, loss = 0.51509285\n",
            "INFO:tensorflow:Saving 'checkpoint_path' summary for global step 5000: /tmp/tmp5m4fjf57/model.ckpt-5000\n",
            "\n",
            "Test set accuracy: 0.867\n",
            "\n"
          ],
          "name": "stdout"
        }
      ]
    },
    {
      "cell_type": "markdown",
      "metadata": {
        "id": "4RI95F9lXiVo",
        "colab_type": "text"
      },
      "source": [
        "**Predictions**\n",
        "Now that we have a trained model it's time to use it to make predictions. I've written a little script below that allows you to type the features of a flower and see a prediction for its class."
      ]
    },
    {
      "cell_type": "code",
      "metadata": {
        "id": "pr7hKxplYEVM",
        "colab_type": "code",
        "outputId": "f956b8c4-cbd2-4e2c-80ec-0654e5fafddd",
        "colab": {
          "base_uri": "https://localhost:8080/",
          "height": 425
        }
      },
      "source": [
        "def input_fn(features, batch_size=256):\n",
        "    # Convert the inputs to a Dataset without labels.\n",
        "    return tf.data.Dataset.from_tensor_slices(dict(features)).batch(batch_size)\n",
        "\n",
        "features = ['SepalLength', 'SepalWidth', 'PetalLength', 'PetalWidth']\n",
        "predict = {}\n",
        "\n",
        "print(\"Please type numeric values as prompted.\")\n",
        "for feature in features:\n",
        "  valid = True\n",
        "  while valid: \n",
        "    val = input(feature + \": \")\n",
        "    if not val.isdigit(): valid = False\n",
        "\n",
        "  predict[feature] = [float(val)]\n",
        "\n",
        "predictions = classifier.predict(input_fn=lambda: input_fn(predict))\n",
        "for pred_dict in predictions:\n",
        "    class_id = pred_dict['class_ids'][0]\n",
        "    probability = pred_dict['probabilities'][class_id]\n",
        "\n",
        "    print('Prediction is \"{}\" ({:.1f}%)'.format(\n",
        "        SPECIES[class_id], 100 * probability))"
      ],
      "execution_count": 0,
      "outputs": [
        {
          "output_type": "stream",
          "text": [
            "Please type numeric values as prompted.\n",
            "SepalLength: 1\n",
            "SepalLength: 2\n",
            "SepalLength: 2\n",
            "SepalLength: 1\n",
            "SepalLength: 4\n",
            "SepalLength: 2\n",
            "SepalLength: 1\n",
            "SepalLength: 2\n",
            "SepalLength: \n"
          ],
          "name": "stdout"
        },
        {
          "output_type": "error",
          "ename": "ValueError",
          "evalue": "ignored",
          "traceback": [
            "\u001b[0;31m---------------------------------------------------------------------------\u001b[0m",
            "\u001b[0;31mValueError\u001b[0m                                Traceback (most recent call last)",
            "\u001b[0;32m<ipython-input-33-69de02fe42e2>\u001b[0m in \u001b[0;36m<module>\u001b[0;34m()\u001b[0m\n\u001b[1;32m     13\u001b[0m     \u001b[0;32mif\u001b[0m \u001b[0;32mnot\u001b[0m \u001b[0mval\u001b[0m\u001b[0;34m.\u001b[0m\u001b[0misdigit\u001b[0m\u001b[0;34m(\u001b[0m\u001b[0;34m)\u001b[0m\u001b[0;34m:\u001b[0m \u001b[0mvalid\u001b[0m \u001b[0;34m=\u001b[0m \u001b[0;32mFalse\u001b[0m\u001b[0;34m\u001b[0m\u001b[0;34m\u001b[0m\u001b[0m\n\u001b[1;32m     14\u001b[0m \u001b[0;34m\u001b[0m\u001b[0m\n\u001b[0;32m---> 15\u001b[0;31m   \u001b[0mpredict\u001b[0m\u001b[0;34m[\u001b[0m\u001b[0mfeature\u001b[0m\u001b[0;34m]\u001b[0m \u001b[0;34m=\u001b[0m \u001b[0;34m[\u001b[0m\u001b[0mfloat\u001b[0m\u001b[0;34m(\u001b[0m\u001b[0mval\u001b[0m\u001b[0;34m)\u001b[0m\u001b[0;34m]\u001b[0m\u001b[0;34m\u001b[0m\u001b[0;34m\u001b[0m\u001b[0m\n\u001b[0m\u001b[1;32m     16\u001b[0m \u001b[0;34m\u001b[0m\u001b[0m\n\u001b[1;32m     17\u001b[0m \u001b[0mpredictions\u001b[0m \u001b[0;34m=\u001b[0m \u001b[0mclassifier\u001b[0m\u001b[0;34m.\u001b[0m\u001b[0mpredict\u001b[0m\u001b[0;34m(\u001b[0m\u001b[0minput_fn\u001b[0m\u001b[0;34m=\u001b[0m\u001b[0;32mlambda\u001b[0m\u001b[0;34m:\u001b[0m \u001b[0minput_fn\u001b[0m\u001b[0;34m(\u001b[0m\u001b[0mpredict\u001b[0m\u001b[0;34m)\u001b[0m\u001b[0;34m)\u001b[0m\u001b[0;34m\u001b[0m\u001b[0;34m\u001b[0m\u001b[0m\n",
            "\u001b[0;31mValueError\u001b[0m: could not convert string to float: "
          ]
        }
      ]
    },
    {
      "cell_type": "code",
      "metadata": {
        "id": "sxKnjVqhYGSm",
        "colab_type": "code",
        "colab": {}
      },
      "source": [
        "# Here is some example input and expected classes you can try above\n",
        "expected = ['Setosa', 'Versicolor', 'Virginica']\n",
        "predict_x = {\n",
        "    'SepalLength': [5.1, 5.9, 6.9],\n",
        "    'SepalWidth': [3.3, 3.0, 3.1],\n",
        "    'PetalLength': [1.7, 4.2, 5.4],\n",
        "    'PetalWidth': [0.5, 1.5, 2.1],\n",
        "}"
      ],
      "execution_count": 0,
      "outputs": []
    }
  ]
}